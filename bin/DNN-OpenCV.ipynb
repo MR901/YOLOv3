{
 "cells": [
  {
   "cell_type": "markdown",
   "metadata": {},
   "source": [
    "Followeing the link https://www.arunponnusamy.com/yolo-object-detection-opencv-python.html"
   ]
  },
  {
   "cell_type": "markdown",
   "metadata": {},
   "source": [
    "## OpenCV dnn module\n",
    "\n",
    "DNN (Deep Neural Network) module was initially part of opencv_contrib repo. It has been moved to the master branch of opencv repo last year, giving users the ability to run inference on pre-trained deep learning models within OpenCV itself.  \n",
    "  \n",
    "(One thing to note here is, dnn module is not meant be used for training. It’s just for running inference on images/videos.)  \n",
    "  \n",
    "Initially only Caffe and Torch models were supported. Over the period support for different frameworks/libraries like TensorFlow is being added.  \n",
    "  \n",
    "Support for YOLO/DarkNet has been added recently. We are going to use the OpenCV dnn module with a pre-trained YOLO model for detecting common objects.  \n",
    "\n"
   ]
  },
  {
   "cell_type": "code",
   "execution_count": null,
   "metadata": {},
   "outputs": [],
   "source": [
    "## Installing Packages\n",
    "# sudo apt-get install python3\n",
    "# pip install numpy\n",
    "# pip install opencv-python\n"
   ]
  },
  {
   "cell_type": "code",
   "execution_count": null,
   "metadata": {},
   "outputs": [],
   "source": [
    "## import packages\n",
    "import cv2\n",
    "import argparse\n",
    "import numpy as np\n",
    "\n",
    "# # handle command line arguments\n",
    "# ap = argparse.ArgumentParser()\n",
    "# ap.add_argument('-i', '--image', required=True,\n",
    "#                 help = 'path to input image')\n",
    "# ap.add_argument('-c', '--config', required=True,\n",
    "#                 help = 'path to yolo config file')\n",
    "# ap.add_argument('-w', '--weights', required=True,\n",
    "#                 help = 'path to yolo pre-trained weights')\n",
    "# ap.add_argument('-cl', '--classes', required=True,\n",
    "#                 help = 'path to text file containing class names')\n",
    "# args = ap.parse_args()\n"
   ]
  },
  {
   "cell_type": "markdown",
   "metadata": {},
   "source": [
    "## Requirements\n",
    "Script Require 4 input requirements\n",
    "- Input Image\n",
    "- Yolo Config File\n",
    "- Pre-Trained Yolo Weights\n",
    "- Text File Containing Class Names\n",
    "\n"
   ]
  },
  {
   "cell_type": "code",
   "execution_count": null,
   "metadata": {},
   "outputs": [],
   "source": []
  }
 ],
 "metadata": {
  "kernelspec": {
   "display_name": "MyPersonalEnv",
   "language": "python",
   "name": "mypersonalenv"
  },
  "language_info": {
   "codemirror_mode": {
    "name": "ipython",
    "version": 3
   },
   "file_extension": ".py",
   "mimetype": "text/x-python",
   "name": "python",
   "nbconvert_exporter": "python",
   "pygments_lexer": "ipython3",
   "version": "3.6.9"
  }
 },
 "nbformat": 4,
 "nbformat_minor": 2
}
