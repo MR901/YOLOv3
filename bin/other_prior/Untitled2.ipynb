{
 "cells": [
  {
   "cell_type": "code",
   "execution_count": 1,
   "metadata": {},
   "outputs": [
    {
     "name": "stdout",
     "output_type": "stream",
     "text": [
      "Cloning into 'darknet'...\n",
      "remote: Enumerating objects: 10900, done.\u001b[K\n",
      "remote: Total 10900 (delta 0), reused 0 (delta 0), pack-reused 10900\u001b[K\n",
      "Receiving objects: 100% (10900/10900), 10.37 MiB | 29.58 MiB/s, done.\n",
      "Resolving deltas: 100% (7384/7384), done.\n"
     ]
    }
   ],
   "source": [
    "!git clone https://github.com/AlexeyAB/darknet.git"
   ]
  },
  {
   "cell_type": "code",
   "execution_count": null,
   "metadata": {},
   "outputs": [],
   "source": []
  }
 ],
 "metadata": {
  "kernelspec": {
   "display_name": "conda_tensorflow_p36",
   "language": "python",
   "name": "conda_tensorflow_p36"
  },
  "language_info": {
   "codemirror_mode": {
    "name": "ipython",
    "version": 3
   },
   "file_extension": ".py",
   "mimetype": "text/x-python",
   "name": "python",
   "nbconvert_exporter": "python",
   "pygments_lexer": "ipython3",
   "version": "3.6.5"
  }
 },
 "nbformat": 4,
 "nbformat_minor": 2
}
