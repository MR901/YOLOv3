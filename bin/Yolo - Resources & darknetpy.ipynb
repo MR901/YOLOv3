{
 "cells": [
  {
   "cell_type": "markdown",
   "metadata": {},
   "source": [
    "\n",
    "https://github.com/pjreddie/darknet  \n",
    "https://github.com/pjreddie/darknet/wiki/YOLO:-Real-Time-Object-Detection  \n",
    "https://blog.paperspace.com/how-to-implement-a-yolo-v3-object-detector-from-scratch-in-pytorch-part-5/  \n",
    "https://martinapugliese.github.io/recognise-objects-yolo/  \n",
    "https://www.learnopencv.com/deep-learning-based-object-detection-using-yolov3-with-opencv-python-c/  \n",
    "https://www.arunponnusamy.com/yolo-object-detection-opencv-python.html  \n",
    "\n",
    "https://github.com/madhawav/YOLO3-4-Py  \n",
    "https://pypi.org/project/yolo34py/  \n",
    "\n",
    "https://github.com/heartkilla/yolo-v3#downloading-official-pretrained-weights  \n",
    "\n",
    "https://pypi.org/project/darknetpy/  \n",
    "https://github.com/danielgatis/darknetpy  \n",
    "\n",
    "\n",
    "\n",
    "\n"
   ]
  },
  {
   "cell_type": "code",
   "execution_count": 1,
   "metadata": {},
   "outputs": [
    {
     "ename": "ModuleNotFoundError",
     "evalue": "No module named 'darknetpy'",
     "output_type": "error",
     "traceback": [
      "\u001b[0;31m--------------------------------------------\u001b[0m",
      "\u001b[0;31mModuleNotFoundError\u001b[0mTraceback (most recent call last)",
      "\u001b[0;32m<ipython-input-1-bc91486408d5>\u001b[0m in \u001b[0;36m<module>\u001b[0;34m\u001b[0m\n\u001b[1;32m      1\u001b[0m \u001b[0;32mfrom\u001b[0m \u001b[0mmatplotlib\u001b[0m \u001b[0;32mimport\u001b[0m \u001b[0mimage\u001b[0m\u001b[0;34m,\u001b[0m \u001b[0mpatches\u001b[0m\u001b[0;34m,\u001b[0m \u001b[0mpyplot\u001b[0m \u001b[0;32mas\u001b[0m \u001b[0mplt\u001b[0m\u001b[0;34m\u001b[0m\u001b[0;34m\u001b[0m\u001b[0m\n\u001b[0;32m----> 2\u001b[0;31m \u001b[0;32mfrom\u001b[0m \u001b[0mdarknetpy\u001b[0m\u001b[0;34m.\u001b[0m\u001b[0mdetector\u001b[0m \u001b[0;32mimport\u001b[0m \u001b[0mDetector\u001b[0m\u001b[0;34m\u001b[0m\u001b[0;34m\u001b[0m\u001b[0m\n\u001b[0m",
      "\u001b[0;31mModuleNotFoundError\u001b[0m: No module named 'darknetpy'"
     ]
    }
   ],
   "source": [
    "from matplotlib import image, patches, pyplot as plt\n",
    "from darknetpy.detector import Detector\n"
   ]
  },
  {
   "cell_type": "code",
   "execution_count": 2,
   "metadata": {},
   "outputs": [
    {
     "ename": "NameError",
     "evalue": "name 'Detector' is not defined",
     "output_type": "error",
     "traceback": [
      "\u001b[0;31m-----------------------------------------\u001b[0m",
      "\u001b[0;31mNameError\u001b[0mTraceback (most recent call last)",
      "\u001b[0;32m<ipython-input-2-e4e582ebd7df>\u001b[0m in \u001b[0;36m<module>\u001b[0;34m\u001b[0m\n\u001b[0;32m----> 1\u001b[0;31m detector = Detector(\n\u001b[0m\u001b[1;32m      2\u001b[0m     \u001b[0;34m'darknet/cfg/coco.data'\u001b[0m\u001b[0;34m,\u001b[0m\u001b[0;34m\u001b[0m\u001b[0;34m\u001b[0m\u001b[0m\n\u001b[1;32m      3\u001b[0m     \u001b[0;34m'darknet/cfg/yolov3.cfg'\u001b[0m\u001b[0;34m,\u001b[0m\u001b[0;34m\u001b[0m\u001b[0;34m\u001b[0m\u001b[0m\n\u001b[1;32m      4\u001b[0m     \u001b[0;34m'darknet/cfg/yolov3.weights'\u001b[0m\u001b[0;34m,\u001b[0m\u001b[0;34m\u001b[0m\u001b[0;34m\u001b[0m\u001b[0m\n\u001b[1;32m      5\u001b[0m )\n",
      "\u001b[0;31mNameError\u001b[0m: name 'Detector' is not defined"
     ]
    }
   ],
   "source": [
    "detector = Detector(\n",
    "    'darknet/cfg/coco.data',\n",
    "    'darknet/cfg/yolov3.cfg',\n",
    "    'darknet/cfg/yolov3.weights',\n",
    ")\n"
   ]
  },
  {
   "cell_type": "code",
   "execution_count": null,
   "metadata": {},
   "outputs": [],
   "source": [
    "boxes = detector.detect('darknet/data/dog.jpg')"
   ]
  },
  {
   "cell_type": "code",
   "execution_count": 3,
   "metadata": {},
   "outputs": [
    {
     "ename": "AttributeError",
     "evalue": "module 'matplotlib.pyplot' has no attribute 'sunbplots'",
     "output_type": "error",
     "traceback": [
      "\u001b[0;31m-----------------------------------------\u001b[0m",
      "\u001b[0;31mAttributeError\u001b[0mTraceback (most recent call last)",
      "\u001b[0;32m<ipython-input-3-1023750a4f09>\u001b[0m in \u001b[0;36m<module>\u001b[0;34m\u001b[0m\n\u001b[0;32m----> 1\u001b[0;31m \u001b[0mfig\u001b[0m\u001b[0;34m,\u001b[0m \u001b[0max\u001b[0m \u001b[0;34m=\u001b[0m \u001b[0mplt\u001b[0m\u001b[0;34m.\u001b[0m\u001b[0msunbplots\u001b[0m\u001b[0;34m(\u001b[0m\u001b[0;36m1\u001b[0m\u001b[0;34m)\u001b[0m\u001b[0;34m\u001b[0m\u001b[0;34m\u001b[0m\u001b[0m\n\u001b[0m\u001b[1;32m      2\u001b[0m \u001b[0max\u001b[0m\u001b[0;34m.\u001b[0m\u001b[0mimshow\u001b[0m\u001b[0;34m(\u001b[0m\u001b[0mimage\u001b[0m\u001b[0;34m.\u001b[0m\u001b[0mimread\u001b[0m\u001b[0;34m(\u001b[0m\u001b[0;34m'darknet/data/dog.jpg'\u001b[0m\u001b[0;34m)\u001b[0m\u001b[0;34m)\u001b[0m\u001b[0;34m\u001b[0m\u001b[0;34m\u001b[0m\u001b[0m\n\u001b[1;32m      3\u001b[0m \u001b[0mcolors\u001b[0m \u001b[0;34m=\u001b[0m \u001b[0;34m[\u001b[0m\u001b[0;34m'r'\u001b[0m\u001b[0;34m,\u001b[0m \u001b[0;34m'b'\u001b[0m\u001b[0;34m,\u001b[0m \u001b[0;34m'y'\u001b[0m\u001b[0;34m]\u001b[0m\u001b[0;34m\u001b[0m\u001b[0;34m\u001b[0m\u001b[0m\n\u001b[1;32m      4\u001b[0m \u001b[0;34m\u001b[0m\u001b[0m\n\u001b[1;32m      5\u001b[0m \u001b[0;32mfor\u001b[0m \u001b[0mi\u001b[0m\u001b[0;34m,\u001b[0m \u001b[0mbox\u001b[0m \u001b[0;32min\u001b[0m \u001b[0menumerate\u001b[0m\u001b[0;34m(\u001b[0m\u001b[0mboxes\u001b[0m\u001b[0;34m)\u001b[0m\u001b[0;34m:\u001b[0m\u001b[0;34m\u001b[0m\u001b[0;34m\u001b[0m\u001b[0m\n",
      "\u001b[0;31mAttributeError\u001b[0m: module 'matplotlib.pyplot' has no attribute 'sunbplots'"
     ]
    }
   ],
   "source": [
    "fig, ax = plt.sunbplots(1)\n",
    "ax.imshow(image.imread('darknet/data/dog.jpg'))\n",
    "colors = ['r', 'b', 'y']\n",
    "\n",
    "for i, box in enumerate(boxes):\n",
    "    l = box['left']\n",
    "    t = box['top']\n",
    "    b = box['bottom']\n",
    "    r = box['right']\n",
    "    c = box['class']\n",
    "    colors = colors[i%len(colors)]\n",
    "    rect = patches.Rectangle(\n",
    "        (l,t),\n",
    "        r-l,\n",
    "        b-t,\n",
    "        linewidth = 1,\n",
    "        edgecolor = color,\n",
    "        facecolor = 'none'\n",
    "    )\n",
    "    ax.text(l,t,c, fontsize=12, bbox={'facecolor':color,'pad':2,'ec':color})\n",
    "    ax.add_patch(rect)\n",
    "plt.show()"
   ]
  },
  {
   "cell_type": "code",
   "execution_count": null,
   "metadata": {},
   "outputs": [],
   "source": []
  },
  {
   "cell_type": "code",
   "execution_count": null,
   "metadata": {},
   "outputs": [],
   "source": []
  },
  {
   "cell_type": "markdown",
   "metadata": {},
   "source": [
    "Installation\n",
    "Install it from pypi\n",
    "\n",
    "curl https://sh.rustup.rs -sSf | sh  \n",
    "rustup default nightly  \n",
    "pip install darknetpy  \n",
    "Install a pre-built binary  \n",
    "\n",
    "pip install https://github.com/danielgatis/darknetpy/raw/master/dist/darknetpy-4.0-cp36-cp36m-linux_x86_64.whl  \n",
    "Advanced options (only for pypi installation)  \n",
    "GPU=1 pip install darknetpy  \n",
    "to build with CUDA to accelerate by using GPU (CUDA should be in /use/local/cuda).  \n",
    "  \n",
    "CUDNN=1 pip install darknetpy  \n",
    "to build with cuDNN to accelerate training by using GPU (cuDNN should be in /usr/local/cudnn).  \n",
    "  \n",
    "OPENCV=1 pip install darknetpy  \n",
    "to build with OpenCV.  \n",
    "  \n",
    "OPENMP=1 pip install darknetpy  \n",
    "to build with OpenMP support to accelerate Yolo by using multi-core CPU.  \n",
    "  \n",
    "Usage  \n",
    "In example.py:  \n",
    "  \n",
    "from darknetpy.detector import Detector  \n",
    "\n",
    "detector = Detector('<absolute-path-to>/darknet/cfg/coco.data',\n",
    "                    '<absolute-path-to>/darknet/cfg/yolo.cfg',\n",
    "                    '<absolute-path-to>/darknet/yolo.weights')  \n",
    "  \n",
    "results = detector.detect('<absolute-path-to>/darknet/data/dog.jpg')  \n",
    "  \n",
    "print(results)  \n",
    "Runing:  \n",
    "  \n",
    "python example.py  \n",
    "Result:  \n",
    "\n",
    "[{'right': 194, 'bottom': 353, 'top': 264, 'class': 'dog', 'prob': 0.8198755383491516, 'left': 71}]\n",
    "Build  \n",
    "On the project root directory  \n",
    "  \n",
    "docker pull hoshizora/manylinux1-clang_x86_64  \n",
    "docker run --rm -v `pwd`:/io hoshizora/manylinux1-clang_x86_64 /io/build-wheels.sh  "
   ]
  },
  {
   "cell_type": "code",
   "execution_count": null,
   "metadata": {},
   "outputs": [],
   "source": []
  },
  {
   "cell_type": "code",
   "execution_count": null,
   "metadata": {},
   "outputs": [],
   "source": []
  },
  {
   "cell_type": "code",
   "execution_count": null,
   "metadata": {},
   "outputs": [],
   "source": []
  },
  {
   "cell_type": "code",
   "execution_count": null,
   "metadata": {},
   "outputs": [],
   "source": [
    "aaa"
   ]
  }
 ],
 "metadata": {
  "kernelspec": {
   "display_name": "MyPersonalEnv",
   "language": "python",
   "name": "mypersonalenv"
  },
  "language_info": {
   "codemirror_mode": {
    "name": "ipython",
    "version": 3
   },
   "file_extension": ".py",
   "mimetype": "text/x-python",
   "name": "python",
   "nbconvert_exporter": "python",
   "pygments_lexer": "ipython3",
   "version": "3.7.4"
  }
 },
 "nbformat": 4,
 "nbformat_minor": 2
}
